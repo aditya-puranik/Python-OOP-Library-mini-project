{
 "cells": [
  {
   "cell_type": "code",
   "execution_count": null,
   "id": "413281b5",
   "metadata": {},
   "outputs": [
    {
     "name": "stdout",
     "output_type": "stream",
     "text": [
      "welcome to VIT library\n",
      "Enter your choice to continue\n",
      "1. Display books\n",
      "2. lend books\n",
      "3. Add book\n",
      "4. Return book\n",
      "1\n",
      "We have following books in our library\n",
      "Python\n",
      "machine learning\n",
      "atomic habits\n",
      "C\n",
      "C++\n",
      "JavaScript\n",
      "Press q to quit or c to continue\n",
      "c\n",
      "welcome to VIT library\n",
      "Enter your choice to continue\n",
      "1. Display books\n",
      "2. lend books\n",
      "3. Add book\n",
      "4. Return book\n"
     ]
    }
   ],
   "source": [
    "class Library:\n",
    "    def __init__(self,list):\n",
    "        self.booklist = list\n",
    "        self.lenddict = {}\n",
    "    \n",
    "    def displaybooks(self):\n",
    "        print(\"We have following books in our library\")\n",
    "        for book in self.booklist:\n",
    "            print(book)\n",
    "    \n",
    "    def lendbook(self,user,book):\n",
    "        if book not in self.lenddict.keys():\n",
    "            self.lenddict.update({book:user})\n",
    "            print(\"lender book database has been updated. You can take the book now!\")\n",
    "        else:\n",
    "            print(f\"Book is already issued by {self.lenddict[book]}\")\n",
    "    \n",
    "    def addbook(self,book):\n",
    "        self.booklist.append(book)\n",
    "        print(\"Book has been added to the list\")\n",
    "        \n",
    "    def returnbook(self,book):\n",
    "        self.lenddict.pop(book)\n",
    "        print(\"Book returned sucessfully!\")\n",
    "    \n",
    "Aditya = Library(['Python','machine learning','atomic habits','C','C++','JavaScript'])\n",
    "\n",
    "while(True):\n",
    "    print(\"welcome to VIT library\")\n",
    "    print(\"Enter your choice to continue\")\n",
    "    print(\"1. Display books\")\n",
    "    print(\"2. lend books\")\n",
    "    print(\"3. Add book\")\n",
    "    print(\"4. Return book\")\n",
    "    \n",
    "    user_choice = int(input())\n",
    "    if user_choice == 1:\n",
    "        Aditya.displaybooks()\n",
    "    elif user_choice == 2:\n",
    "        user = input(\"Enter name of the user\")\n",
    "        book = input(\"Enter book name user want to lend\")\n",
    "        Aditya.lendbook(user,book)\n",
    "    elif user_choice == 3:\n",
    "        book = input(\"Enter name of the book you want to add\")\n",
    "        Aditya.addbook(book)\n",
    "    elif user_choice == 4:\n",
    "        book = input(\"Enter the book name you want to return\")\n",
    "        Aditya.returnbook(book)\n",
    "    else:\n",
    "        print(\"Enter appropriate choice\")\n",
    "        \n",
    "    print(\"Press q to quit or c to continue\")\n",
    "    choice=\"\"\n",
    "    while(choice !=\"c\" and choice !=\"q\"):\n",
    "        choice= input()\n",
    "        if choice == 'q':\n",
    "            exit()\n",
    "        elif choice == 'c':\n",
    "            continue"
   ]
  },
  {
   "cell_type": "code",
   "execution_count": null,
   "id": "4221ead8",
   "metadata": {},
   "outputs": [],
   "source": []
  },
  {
   "cell_type": "code",
   "execution_count": null,
   "id": "10c4a59b",
   "metadata": {},
   "outputs": [],
   "source": []
  },
  {
   "cell_type": "code",
   "execution_count": null,
   "id": "465a9203",
   "metadata": {},
   "outputs": [],
   "source": []
  },
  {
   "cell_type": "code",
   "execution_count": null,
   "id": "104c06c5",
   "metadata": {},
   "outputs": [],
   "source": [
    "   "
   ]
  },
  {
   "cell_type": "code",
   "execution_count": null,
   "id": "adb058eb",
   "metadata": {},
   "outputs": [],
   "source": []
  },
  {
   "cell_type": "code",
   "execution_count": null,
   "id": "4b52b136",
   "metadata": {},
   "outputs": [],
   "source": []
  },
  {
   "cell_type": "code",
   "execution_count": null,
   "id": "a1217fbd",
   "metadata": {},
   "outputs": [],
   "source": []
  }
 ],
 "metadata": {
  "kernelspec": {
   "display_name": "Python 3 (ipykernel)",
   "language": "python",
   "name": "python3"
  },
  "language_info": {
   "codemirror_mode": {
    "name": "ipython",
    "version": 3
   },
   "file_extension": ".py",
   "mimetype": "text/x-python",
   "name": "python",
   "nbconvert_exporter": "python",
   "pygments_lexer": "ipython3",
   "version": "3.10.7"
  }
 },
 "nbformat": 4,
 "nbformat_minor": 5
}
